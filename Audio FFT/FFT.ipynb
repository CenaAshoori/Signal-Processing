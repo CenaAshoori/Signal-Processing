{
 "cells": [
  {
   "cell_type": "code",
   "execution_count": 3,
   "id": "d70f18a3",
   "metadata": {},
   "outputs": [
    {
     "name": "stdout",
     "output_type": "stream",
     "text": [
      "Note: you may need to restart the kernel to use updated packages.\n"
     ]
    },
    {
     "name": "stderr",
     "output_type": "stream",
     "text": [
      "'c:\\+Code\\Ai' is not recognized as an internal or external command,\n",
      "operable program or batch file.\n"
     ]
    }
   ],
   "source": [
    "pip install matplotlib"
   ]
  },
  {
   "cell_type": "code",
   "execution_count": 3,
   "id": "7607d8b5-f5bf-4276-964a-f62b68e673cc",
   "metadata": {},
   "outputs": [
    {
     "ename": "ModuleNotFoundError",
     "evalue": "No module named 'matplotlib'",
     "output_type": "error",
     "traceback": [
      "\u001b[1;31m---------------------------------------------------------------------------\u001b[0m",
      "\u001b[1;31mModuleNotFoundError\u001b[0m                       Traceback (most recent call last)",
      "\u001b[1;32m<ipython-input-3-c495b8889fcc>\u001b[0m in \u001b[0;36m<module>\u001b[1;34m\u001b[0m\n\u001b[1;32m----> 1\u001b[1;33m \u001b[1;32mimport\u001b[0m \u001b[0mmatplotlib\u001b[0m\u001b[1;33m.\u001b[0m\u001b[0mpyplot\u001b[0m \u001b[1;32mas\u001b[0m \u001b[0mplt\u001b[0m\u001b[1;33m\u001b[0m\u001b[1;33m\u001b[0m\u001b[0m\n\u001b[0m\u001b[0;32m      2\u001b[0m \u001b[1;32mimport\u001b[0m \u001b[0mnumpy\u001b[0m \u001b[1;32mas\u001b[0m \u001b[0mnp\u001b[0m\u001b[1;33m\u001b[0m\u001b[1;33m\u001b[0m\u001b[0m\n\u001b[0;32m      3\u001b[0m \u001b[1;33m\u001b[0m\u001b[0m\n\u001b[0;32m      4\u001b[0m \u001b[0mplt\u001b[0m\u001b[1;33m.\u001b[0m\u001b[0mrcParams\u001b[0m\u001b[1;33m[\u001b[0m\u001b[1;34m'figure.figsize'\u001b[0m\u001b[1;33m]\u001b[0m \u001b[1;33m=\u001b[0m \u001b[1;33m[\u001b[0m\u001b[1;36m16\u001b[0m\u001b[1;33m,\u001b[0m\u001b[1;36m12\u001b[0m\u001b[1;33m]\u001b[0m\u001b[1;33m\u001b[0m\u001b[1;33m\u001b[0m\u001b[0m\n\u001b[0;32m      5\u001b[0m \u001b[0mplt\u001b[0m\u001b[1;33m.\u001b[0m\u001b[0mrcParams\u001b[0m\u001b[1;33m.\u001b[0m\u001b[0mupdate\u001b[0m\u001b[1;33m(\u001b[0m\u001b[1;33m{\u001b[0m\u001b[1;34m'font.size'\u001b[0m\u001b[1;33m:\u001b[0m\u001b[1;36m18\u001b[0m\u001b[1;33m}\u001b[0m\u001b[1;33m)\u001b[0m\u001b[1;33m\u001b[0m\u001b[1;33m\u001b[0m\u001b[0m\n",
      "\u001b[1;31mModuleNotFoundError\u001b[0m: No module named 'matplotlib'"
     ]
    }
   ],
   "source": [
    "import matplotlib.pyplot as plt\n",
    "import numpy as np\n",
    "\n",
    "plt.rcParams['figure.figsize'] = [16,12]\n",
    "plt.rcParams.update({'font.size':18})\n",
    "\n",
    "dt = 0.01\n",
    "t = np.arange(0,2,dt)\n",
    "f = np.sin(2*np.pi *50 *t  ) + np.sin(2*np.pi * 120 * t) + np.sin(2*np.pi * 65 * t)\n",
    "f_clean = f\n",
    "noise =  2.5* np.random.randn(len(t))\n",
    "f = f + noise\n",
    "\n",
    "fig,axs = plt.subplots(3,1)\n",
    "plt.sca(axs[0])\n",
    "plt.plot(t,f_clean,color='r')\n",
    "plt.xlim(t[0],t[-1])\n",
    "plt.title(label=\"Clear\")\n",
    "plt.legend([\"Clear\"])\n",
    "\n",
    "plt.sca(axs[1])\n",
    "plt.plot(t,noise,color='y')\n",
    "plt.xlim(t[0],t[-1])\n",
    "plt.title(label=\"Noise\")\n",
    "plt.legend([\"Noise\"])\n",
    "\n",
    "plt.sca(axs[2])\n",
    "plt.plot(t,f,color='c')\n",
    "plt.xlim(t[0],t[-1])\n",
    "plt.title(label=\"Clear + Noise\")\n",
    "plt.legend([\"Clear\",\"Noisy\"])"
   ]
  },
  {
   "cell_type": "code",
   "execution_count": null,
   "id": "01dff97b",
   "metadata": {},
   "outputs": [],
   "source": [
    "n = len(t)\n",
    "fhat = np.fft.fft(f,n)\n",
    "# print(fhat[0])\n",
    "PSD = fhat * np.conj(fhat) / n\n",
    "# print(np.conj(fhat)[0])\n",
    "# print(PSD[0])\n",
    "freq = (1/(dt*n)) * np.arange(n)\n",
    "print(dt)\n",
    "print(np.arange(n))\n",
    "L = np.arange(1,np.floor(n/2),dtype='int')\n",
    "print(L)\n",
    "fig,axs = plt.subplots(2,1)\n",
    "\n",
    "plt.sca(axs[0])\n",
    "plt.plot(t,f,color='c')\n",
    "plt.plot(t,f_clean,color='r')\n",
    "plt.xlim(t[0],t[-1])\n",
    "plt.legend([\"Noisy\",\"Clean\"])\n",
    "\n",
    "plt.sca(axs[1])\n",
    "plt.plot(freq[L], PSD[L],color='c')\n",
    "plt.xlim(freq[L[0]],freq[L[-1]])\n",
    "plt.xlabel(xlabel=\"freq\")\n",
    "plt.ylabel(ylabel=\"power of freq\")\n",
    "plt.legend([\"Noisy\"])\n",
    "\n"
   ]
  },
  {
   "cell_type": "code",
   "execution_count": null,
   "id": "9b738c10",
   "metadata": {},
   "outputs": [],
   "source": [
    "indices = PSD > 100\n",
    "PSDclean = PSD * indices\n",
    "fhat = indices * fhat\n",
    "ffilt = np.fft.ifft(fhat)\n",
    "\n",
    "fig,axs = plt.subplots(3,1)\n",
    "\n",
    "plt.sca(axs[0])\n",
    "plt.plot(t,f,color='c')\n",
    "plt.plot(t,f_clean,color='r')\n",
    "plt.xlim(t[0],t[-1])\n",
    "plt.legend([\"Noisy\",\"Clean\"])\n",
    "\n",
    "plt.sca(axs[1])\n",
    "plt.plot(freq[L],PSD[L],color='c')\n",
    "plt.plot(freq[L],PSDclean[L],color='r')\n",
    "plt.xlim(freq[L[0]],freq[L[-1]])\n",
    "plt.legend([\"Noisy\",\"Filtered\"])\n",
    "\n",
    "plt.sca(axs[2])\n",
    "plt.plot(t,ffilt,color='c')\n",
    "plt.xlim(t[0],t[-1])\n",
    "plt.legend([\"Filtered\"])\n"
   ]
  },
  {
   "cell_type": "code",
   "execution_count": null,
   "id": "54922987",
   "metadata": {},
   "outputs": [],
   "source": [
    "import matplotlib.pyplot as plt\n",
    "import numpy as np\n",
    "\n",
    "plt.rcParams['figure.figsize'] = [16,12]\n",
    "plt.rcParams.update({'font.size':18})\n",
    "\n",
    "dt = 0.001\n",
    "t = np.arange(0,1,dt)\n",
    "f = np.sin(2*np.pi *50 *t  ) + np.sin(2*np.pi * 120 * t) + np.sin(2*np.pi * 65 * t)\n",
    "f_clean = f\n",
    "noise =  2.5* np.random.randn(len(t))\n",
    "f = f + noise\n",
    "\n",
    "fig,axs = plt.subplots(3,1)\n",
    "plt.sca(axs[0])\n",
    "plt.plot(t,f_clean,color='r')\n",
    "plt.xlim(t[0],t[-1])\n",
    "plt.title(label=\"Clear\")\n",
    "plt.legend([\"Clear\"])\n",
    "\n",
    "plt.sca(axs[1])\n",
    "plt.plot(t,noise,color='y')\n",
    "plt.xlim(t[0],t[-1])\n",
    "plt.title(label=\"Noise\")\n",
    "plt.legend([\"Noise\"])\n",
    "\n",
    "plt.sca(axs[2])\n",
    "plt.plot(t,f,color='c')\n",
    "plt.xlim(t[0],t[-1])\n",
    "plt.title(label=\"Clear + Noise\")\n",
    "plt.legend([\"Clear\",\"Noisy\"])"
   ]
  }
 ],
 "metadata": {
  "interpreter": {
   "hash": "53d973471ab85fdb14fbbf3fcd6d11c5aba9ad81edb8ac02105c63b27eae22bc"
  },
  "kernelspec": {
   "display_name": "Signal Env",
   "language": "python",
   "name": "python3"
  },
  "language_info": {
   "codemirror_mode": {
    "name": "ipython",
    "version": 3
   },
   "file_extension": ".py",
   "mimetype": "text/x-python",
   "name": "python",
   "nbconvert_exporter": "python",
   "pygments_lexer": "ipython3",
   "version": "3.9.4"
  }
 },
 "nbformat": 4,
 "nbformat_minor": 5
}
